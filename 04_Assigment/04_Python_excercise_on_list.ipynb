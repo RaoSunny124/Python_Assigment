{
 "cells": [
  {
   "cell_type": "markdown",
   "metadata": {},
   "source": [
    "# Lists"
   ]
  },
  {
   "cell_type": "code",
   "execution_count": 286,
   "metadata": {},
   "outputs": [
    {
     "name": "stdout",
     "output_type": "stream",
     "text": [
      "['Ali', 'Sherry', 'Huzaifa']\n"
     ]
    }
   ],
   "source": [
    "names = ['Ali' , 'Sherry' , 'Huzaifa']\n",
    "print(names)"
   ]
  },
  {
   "cell_type": "code",
   "execution_count": 287,
   "metadata": {},
   "outputs": [
    {
     "name": "stdout",
     "output_type": "stream",
     "text": [
      "Ali\n",
      "Sherry\n",
      "Huzaifa\n"
     ]
    }
   ],
   "source": [
    "print(names[0])\n",
    "print(names[1])\n",
    "print(names[2])"
   ]
  },
  {
   "cell_type": "code",
   "execution_count": 288,
   "metadata": {},
   "outputs": [
    {
     "data": {
      "text/plain": [
       "0"
      ]
     },
     "execution_count": 288,
     "metadata": {},
     "output_type": "execute_result"
    }
   ],
   "source": [
    "names.index('Ali')"
   ]
  },
  {
   "cell_type": "code",
   "execution_count": 289,
   "metadata": {},
   "outputs": [
    {
     "data": {
      "text/plain": [
       "['Ali', 'Sherry', 'Huzaifa']"
      ]
     },
     "execution_count": 289,
     "metadata": {},
     "output_type": "execute_result"
    }
   ],
   "source": [
    "names"
   ]
  },
  {
   "cell_type": "code",
   "execution_count": 290,
   "metadata": {},
   "outputs": [
    {
     "name": "stdout",
     "output_type": "stream",
     "text": [
      "\u001b[1;3mHello Ali! I hope u are fine\u001b[0m\n",
      "\u001b[1;3mHello Sherry! I hope u are fine\u001b[0m\n",
      "\u001b[1;3mHello Huzaifa! I hope u are fine\u001b[0m\n"
     ]
    }
   ],
   "source": [
    "for name in names:\n",
    "   print(f'\\033[1;3mHello {name}! I hope u are fine\\033[0m')\n",
    "\n"
   ]
  },
  {
   "cell_type": "code",
   "execution_count": 291,
   "metadata": {},
   "outputs": [
    {
     "name": "stdout",
     "output_type": "stream",
     "text": [
      "['Hoda', 'Royal royas', 'suzuki']\n"
     ]
    }
   ],
   "source": [
    "favourite_tranport = ['Hoda' , 'Royal royas' , 'suzuki']\n",
    "print(favourite_tranport)"
   ]
  },
  {
   "cell_type": "code",
   "execution_count": 292,
   "metadata": {},
   "outputs": [
    {
     "name": "stdout",
     "output_type": "stream",
     "text": [
      "\u001b[1;3mI like Hoda company vehicle.🚗✨😊\u001b[0m\n",
      "\u001b[1;3mI like Royal royas company vehicle.🚗✨😊\u001b[0m\n",
      "\u001b[1;3mI like suzuki company vehicle.🚗✨😊\u001b[0m\n"
     ]
    }
   ],
   "source": [
    "for transport in favourite_tranport:\n",
    "    print(f'\\033[1;3mI like {transport} company vehicle.🚗✨😊\\033[0m')"
   ]
  },
  {
   "cell_type": "code",
   "execution_count": 293,
   "metadata": {},
   "outputs": [
    {
     "name": "stdout",
     "output_type": "stream",
     "text": [
      "['Ali', 'Huzaifa', 'Mazhar']\n"
     ]
    }
   ],
   "source": [
    "sajjan_beli = ['Ali' , 'Huzaifa' , 'Mazhar']\n",
    "print(sajjan_beli)"
   ]
  },
  {
   "cell_type": "code",
   "execution_count": 294,
   "metadata": {},
   "outputs": [
    {
     "name": "stdout",
     "output_type": "stream",
     "text": [
      "\u001b[1;3m🍕 Dear Ali! 😄 Can you please come for dinner? 🍽️ First I invite you, then you invite me! 😂\u001b[0m\n",
      "\u001b[1;3m🍕 Dear Huzaifa! 😄 Can you please come for dinner? 🍽️ First I invite you, then you invite me! 😂\u001b[0m\n",
      "\u001b[1;3m🍕 Dear Mazhar! 😄 Can you please come for dinner? 🍽️ First I invite you, then you invite me! 😂\u001b[0m\n"
     ]
    }
   ],
   "source": [
    "for good_friends in sajjan_beli:\n",
    "    print(f'\\033[1;3m🍕 Dear {good_friends}! 😄 Can you please come for dinner? 🍽️ First I invite you, then you invite me! 😂\\033[0m')\n"
   ]
  },
  {
   "cell_type": "code",
   "execution_count": 295,
   "metadata": {},
   "outputs": [
    {
     "name": "stdout",
     "output_type": "stream",
     "text": [
      "Mazhar\n"
     ]
    }
   ],
   "source": [
    "print(good_friends)"
   ]
  },
  {
   "cell_type": "code",
   "execution_count": 296,
   "metadata": {},
   "outputs": [
    {
     "data": {
      "text/plain": [
       "'Mazhar'"
      ]
     },
     "execution_count": 296,
     "metadata": {},
     "output_type": "execute_result"
    }
   ],
   "source": [
    "sajjan_beli.pop()"
   ]
  },
  {
   "cell_type": "code",
   "execution_count": 297,
   "metadata": {},
   "outputs": [],
   "source": [
    "sajjan_beli.append('Huzaifa')"
   ]
  },
  {
   "cell_type": "code",
   "execution_count": 298,
   "metadata": {},
   "outputs": [
    {
     "name": "stdout",
     "output_type": "stream",
     "text": [
      "['Ali', 'Huzaifa', 'Huzaifa']\n"
     ]
    }
   ],
   "source": [
    "print(sajjan_beli)\n",
    "sajjan_beli.append('Mazhar') \n"
   ]
  },
  {
   "cell_type": "code",
   "execution_count": 299,
   "metadata": {},
   "outputs": [
    {
     "name": "stdout",
     "output_type": "stream",
     "text": [
      "['Ali', 'Huzaifa', 'Huzaifa', 'Mazhar']\n"
     ]
    }
   ],
   "source": [
    "print(sajjan_beli)"
   ]
  },
  {
   "cell_type": "code",
   "execution_count": 300,
   "metadata": {},
   "outputs": [
    {
     "data": {
      "text/plain": [
       "3"
      ]
     },
     "execution_count": 300,
     "metadata": {},
     "output_type": "execute_result"
    }
   ],
   "source": [
    "sajjan_beli.index('Mazhar')"
   ]
  },
  {
   "cell_type": "code",
   "execution_count": 301,
   "metadata": {},
   "outputs": [
    {
     "name": "stdout",
     "output_type": "stream",
     "text": [
      "Mazhar says! sorry I am busy\n"
     ]
    }
   ],
   "source": [
    "busy = 'Mazhar'\n",
    "print(f'{busy} says! sorry I am busy')"
   ]
  },
  {
   "cell_type": "code",
   "execution_count": 302,
   "metadata": {},
   "outputs": [],
   "source": [
    "sajjan_beli[2] = 'Farhan'"
   ]
  },
  {
   "cell_type": "code",
   "execution_count": 303,
   "metadata": {},
   "outputs": [
    {
     "name": "stdout",
     "output_type": "stream",
     "text": [
      "['Ali', 'Huzaifa', 'Farhan', 'Mazhar']\n"
     ]
    }
   ],
   "source": [
    "print(sajjan_beli)"
   ]
  },
  {
   "cell_type": "code",
   "execution_count": 304,
   "metadata": {},
   "outputs": [
    {
     "name": "stdout",
     "output_type": "stream",
     "text": [
      "\u001b[1;3mDear Ali! u are invte for dinner.Plz be on time.🕒😊\u001b[0m\n",
      "\u001b[1;3mDear Huzaifa! u are invte for dinner.Plz be on time.🕒😊\u001b[0m\n",
      "\u001b[1;3mDear Farhan! u are invte for dinner.Plz be on time.🕒😊\u001b[0m\n",
      "\u001b[1;3mDear Mazhar! u are invte for dinner.Plz be on time.🕒😊\u001b[0m\n"
     ]
    }
   ],
   "source": [
    "for inviting_friend in sajjan_beli:\n",
    "    print(f'\\033[1;3mDear {inviting_friend}! u are invte for dinner.Plz be on time.🕒😊\\033[0m')"
   ]
  },
  {
   "cell_type": "code",
   "execution_count": 305,
   "metadata": {},
   "outputs": [],
   "source": [
    "# for more_people in sajjan_beli:\n",
    "#     print(f'Dear {more_people}! I have found a big table.So, I have invite some more people.')"
   ]
  },
  {
   "cell_type": "code",
   "execution_count": 306,
   "metadata": {},
   "outputs": [],
   "source": [
    "sajjan_beli.insert(0 , 'sami')"
   ]
  },
  {
   "cell_type": "code",
   "execution_count": 307,
   "metadata": {},
   "outputs": [
    {
     "name": "stdout",
     "output_type": "stream",
     "text": [
      "['sami', 'Ali', 'Huzaifa', 'Farhan', 'Mazhar']\n"
     ]
    }
   ],
   "source": [
    "print(sajjan_beli)"
   ]
  },
  {
   "cell_type": "code",
   "execution_count": 308,
   "metadata": {},
   "outputs": [],
   "source": [
    "sajjan_beli.insert(2 , 'zain Ahamad')"
   ]
  },
  {
   "cell_type": "code",
   "execution_count": 309,
   "metadata": {},
   "outputs": [
    {
     "name": "stdout",
     "output_type": "stream",
     "text": [
      "['sami', 'Ali', 'zain Ahamad', 'Huzaifa', 'Farhan', 'Mazhar']\n"
     ]
    }
   ],
   "source": [
    "print(sajjan_beli)"
   ]
  },
  {
   "cell_type": "code",
   "execution_count": 310,
   "metadata": {},
   "outputs": [
    {
     "data": {
      "text/plain": [
       "'zain Ahamad'"
      ]
     },
     "execution_count": 310,
     "metadata": {},
     "output_type": "execute_result"
    }
   ],
   "source": [
    "sajjan_beli.pop(2)"
   ]
  },
  {
   "cell_type": "code",
   "execution_count": 311,
   "metadata": {},
   "outputs": [
    {
     "name": "stdout",
     "output_type": "stream",
     "text": [
      "['sami', 'Ali', 'Huzaifa', 'Farhan', 'Mazhar']\n"
     ]
    }
   ],
   "source": [
    "print(sajjan_beli)"
   ]
  },
  {
   "cell_type": "code",
   "execution_count": 312,
   "metadata": {},
   "outputs": [
    {
     "name": "stdout",
     "output_type": "stream",
     "text": [
      "['sami', 'Ali', 'Huzaifa', 'Farhan', 'Mazhar', 'Faizan']\n"
     ]
    }
   ],
   "source": [
    "sajjan_beli.append('Faizan')\n",
    "print(sajjan_beli)"
   ]
  },
  {
   "cell_type": "code",
   "execution_count": 313,
   "metadata": {},
   "outputs": [
    {
     "name": "stdout",
     "output_type": "stream",
     "text": [
      "\u001b[1;3mDear sami! u are invite for dinner but plz don’t eat too much! 😄.\u001b[0m \n",
      "\u001b[1;3mDear Ali! u are invite for dinner but plz don’t eat too much! 😄.\u001b[0m \n",
      "\u001b[1;3mDear Huzaifa! u are invite for dinner but plz don’t eat too much! 😄.\u001b[0m \n",
      "\u001b[1;3mDear Farhan! u are invite for dinner but plz don’t eat too much! 😄.\u001b[0m \n",
      "\u001b[1;3mDear Mazhar! u are invite for dinner but plz don’t eat too much! 😄.\u001b[0m \n",
      "\u001b[1;3mDear Faizan! u are invite for dinner but plz don’t eat too much! 😄.\u001b[0m \n"
     ]
    }
   ],
   "source": [
    "for big_dinner in sajjan_beli:\n",
    "    print(f\"\\033[1;3mDear {big_dinner}! u are invite for dinner but plz don’t eat too much! 😄.\\033[0m \")"
   ]
  },
  {
   "cell_type": "code",
   "execution_count": 314,
   "metadata": {},
   "outputs": [
    {
     "name": "stdout",
     "output_type": "stream",
     "text": [
      "\u001b[1;3mSorry, Dear sami! I invite only two people for dinner.\u001b[0m\n",
      "\u001b[1;3mSorry, Dear Ali! I invite only two people for dinner.\u001b[0m\n",
      "\u001b[1;3mSorry, Dear Huzaifa! I invite only two people for dinner.\u001b[0m\n",
      "\u001b[1;3mSorry, Dear Farhan! I invite only two people for dinner.\u001b[0m\n",
      "\u001b[1;3mSorry, Dear Mazhar! I invite only two people for dinner.\u001b[0m\n",
      "\u001b[1;3mSorry, Dear Faizan! I invite only two people for dinner.\u001b[0m\n"
     ]
    }
   ],
   "source": [
    "for small_table in sajjan_beli:\n",
    "    print(f'\\033[1;3mSorry, Dear {small_table}! I invite only two people for dinner.\\033[0m')"
   ]
  },
  {
   "cell_type": "code",
   "execution_count": 315,
   "metadata": {},
   "outputs": [
    {
     "name": "stdout",
     "output_type": "stream",
     "text": [
      "['sami', 'Ali', 'Farhan', 'Mazhar', 'Faizan']\n"
     ]
    }
   ],
   "source": [
    "sajjan_beli.pop(2)\n",
    "print(sajjan_beli)"
   ]
  },
  {
   "cell_type": "code",
   "execution_count": 316,
   "metadata": {},
   "outputs": [
    {
     "name": "stdout",
     "output_type": "stream",
     "text": [
      "\u001b[1;3mNow sami! u are invited for dinner.\u001b[0m\n",
      "\u001b[1;3mNow Ali! u are invited for dinner.\u001b[0m\n",
      "\u001b[1;3mNow Farhan! u are invited for dinner.\u001b[0m\n",
      "\u001b[1;3mNow Mazhar! u are invited for dinner.\u001b[0m\n",
      "\u001b[1;3mNow Faizan! u are invited for dinner.\u001b[0m\n"
     ]
    }
   ],
   "source": [
    "for small_table1 in sajjan_beli:\n",
    "    print(f\"\\033[1;3mNow {small_table1}! u are invited for dinner.\\033[0m\")"
   ]
  },
  {
   "cell_type": "code",
   "execution_count": 317,
   "metadata": {},
   "outputs": [
    {
     "name": "stdout",
     "output_type": "stream",
     "text": [
      "Faizan\n"
     ]
    }
   ],
   "source": [
    "print(small_table1)\n"
   ]
  },
  {
   "cell_type": "code",
   "execution_count": 318,
   "metadata": {},
   "outputs": [],
   "source": [
    "del sajjan_beli[1]"
   ]
  },
  {
   "cell_type": "code",
   "execution_count": 319,
   "metadata": {},
   "outputs": [
    {
     "name": "stdout",
     "output_type": "stream",
     "text": [
      "['Farhan', 'Mazhar', 'Faizan']\n"
     ]
    }
   ],
   "source": [
    "del sajjan_beli[0]\n",
    "print(sajjan_beli)"
   ]
  },
  {
   "cell_type": "code",
   "execution_count": 320,
   "metadata": {},
   "outputs": [
    {
     "name": "stdout",
     "output_type": "stream",
     "text": [
      "['Mazhar', 'Faizan']\n"
     ]
    }
   ],
   "source": [
    "sajjan_beli.pop(0)\n",
    "print(sajjan_beli)"
   ]
  },
  {
   "cell_type": "code",
   "execution_count": 321,
   "metadata": {},
   "outputs": [
    {
     "name": "stdout",
     "output_type": "stream",
     "text": [
      "['Burj khalifa : dubai', 'Taj Mahal : india', 'Sahara desert : Africa', 'Eiffel tower : france', 'Great wall of chaina : chaina']\n"
     ]
    }
   ],
   "source": [
    "favrt_places = ['Burj khalifa : dubai' , 'Taj Mahal : india' , 'Sahara desert : Africa' , 'Eiffel tower : france' , 'Great wall of chaina : chaina']\n",
    "print(favrt_places)"
   ]
  },
  {
   "cell_type": "code",
   "execution_count": 322,
   "metadata": {},
   "outputs": [
    {
     "name": "stdout",
     "output_type": "stream",
     "text": [
      "Original list: ['Burj khalifa : dubai', 'Taj Mahal : india', 'Sahara desert : Africa', 'Eiffel tower : france', 'Great wall of chaina : chaina']\n"
     ]
    }
   ],
   "source": [
    "print('Original list:' ,  favrt_places)"
   ]
  },
  {
   "cell_type": "code",
   "execution_count": 323,
   "metadata": {},
   "outputs": [
    {
     "name": "stdout",
     "output_type": "stream",
     "text": [
      "Alphabetical order: ['Burj khalifa : dubai', 'Eiffel tower : france', 'Great wall of chaina : chaina', 'Sahara desert : Africa', 'Taj Mahal : india']\n"
     ]
    }
   ],
   "source": [
    "print('Alphabetical order:' , sorted(favrt_places))"
   ]
  },
  {
   "cell_type": "code",
   "execution_count": 324,
   "metadata": {},
   "outputs": [
    {
     "name": "stdout",
     "output_type": "stream",
     "text": [
      "Original list (after sorted): ['Burj khalifa : dubai', 'Taj Mahal : india', 'Sahara desert : Africa', 'Eiffel tower : france', 'Great wall of chaina : chaina']\n"
     ]
    }
   ],
   "source": [
    "print(\"Original list (after sorted):\" , favrt_places)"
   ]
  },
  {
   "cell_type": "code",
   "execution_count": 325,
   "metadata": {},
   "outputs": [
    {
     "name": "stdout",
     "output_type": "stream",
     "text": [
      "Reverse Alphabetical order: <list_reverseiterator object at 0x0000021FB25B78B0>\n"
     ]
    }
   ],
   "source": [
    "print('Reverse Alphabetical order:' , reversed(favrt_places))"
   ]
  },
  {
   "cell_type": "code",
   "execution_count": 326,
   "metadata": {},
   "outputs": [
    {
     "name": "stdout",
     "output_type": "stream",
     "text": [
      "Reverse Alphabetical order: ['Taj Mahal : india', 'Sahara desert : Africa', 'Great wall of chaina : chaina', 'Eiffel tower : france', 'Burj khalifa : dubai']\n"
     ]
    }
   ],
   "source": [
    "print('Reverse Alphabetical order:' , sorted(favrt_places , reverse = True))"
   ]
  },
  {
   "cell_type": "code",
   "execution_count": 327,
   "metadata": {},
   "outputs": [
    {
     "name": "stdout",
     "output_type": "stream",
     "text": [
      "['Burj khalifa : dubai', 'Taj Mahal : india', 'Sahara desert : Africa', 'Eiffel tower : france', 'Great wall of chaina : chaina']\n"
     ]
    }
   ],
   "source": [
    "print(favrt_places)"
   ]
  },
  {
   "cell_type": "code",
   "execution_count": 328,
   "metadata": {},
   "outputs": [
    {
     "name": "stdout",
     "output_type": "stream",
     "text": [
      "List after second reverse (back to original): ['Burj khalifa : dubai', 'Taj Mahal : india', 'Sahara desert : Africa', 'Eiffel tower : france', 'Great wall of chaina : chaina']\n"
     ]
    }
   ],
   "source": [
    "print(\"List after second reverse (back to original):\",favrt_places)"
   ]
  },
  {
   "cell_type": "code",
   "execution_count": 329,
   "metadata": {},
   "outputs": [
    {
     "name": "stdout",
     "output_type": "stream",
     "text": [
      "List sorted in alphabetical order: ['Burj khalifa : dubai', 'Eiffel tower : france', 'Great wall of chaina : chaina', 'Sahara desert : Africa', 'Taj Mahal : india']\n"
     ]
    }
   ],
   "source": [
    "favrt_places.sort()\n",
    "print(\"List sorted in alphabetical order:\", favrt_places)"
   ]
  },
  {
   "cell_type": "code",
   "execution_count": 330,
   "metadata": {},
   "outputs": [
    {
     "name": "stdout",
     "output_type": "stream",
     "text": [
      "['mountains', 'rivers', 'countries', 'cities', 'languages', 'snowfall']\n"
     ]
    }
   ],
   "source": [
    "List = ['mountains' , 'rivers' , 'countries' , 'cities' , 'languages' , 'snowfall']\n",
    "print(List)"
   ]
  },
  {
   "cell_type": "code",
   "execution_count": 331,
   "metadata": {},
   "outputs": [
    {
     "name": "stdout",
     "output_type": "stream",
     "text": [
      "countries\n",
      "cities\n",
      "languages\n"
     ]
    }
   ],
   "source": [
    "print(List[2])\n",
    "print(List[3])\n",
    "print(List[4])"
   ]
  },
  {
   "cell_type": "code",
   "execution_count": 332,
   "metadata": {},
   "outputs": [
    {
     "data": {
      "text/plain": [
       "1"
      ]
     },
     "execution_count": 332,
     "metadata": {},
     "output_type": "execute_result"
    }
   ],
   "source": [
    "List.index(\"rivers\")"
   ]
  },
  {
   "cell_type": "code",
   "execution_count": 333,
   "metadata": {},
   "outputs": [],
   "source": [
    "List.append('furniture')"
   ]
  },
  {
   "cell_type": "code",
   "execution_count": 334,
   "metadata": {},
   "outputs": [
    {
     "name": "stdout",
     "output_type": "stream",
     "text": [
      "['mountains', 'rivers', 'countries', 'cities', 'languages', 'snowfall', 'furniture']\n"
     ]
    }
   ],
   "source": [
    "print(List)"
   ]
  },
  {
   "cell_type": "code",
   "execution_count": 335,
   "metadata": {},
   "outputs": [
    {
     "name": "stdout",
     "output_type": "stream",
     "text": [
      "['mountains', 'rivers', 'bags', 'cities', 'languages', 'snowfall', 'furniture']\n"
     ]
    }
   ],
   "source": [
    "List[2] = 'bags'\n",
    "print(List)"
   ]
  },
  {
   "cell_type": "code",
   "execution_count": 336,
   "metadata": {},
   "outputs": [
    {
     "name": "stdout",
     "output_type": "stream",
     "text": [
      "['studies', 'mountains', 'rivers', 'bags', 'cities', 'languages', 'snowfall', 'furniture']\n"
     ]
    }
   ],
   "source": [
    "List.insert(0 , 'studies')\n",
    "print(List)"
   ]
  },
  {
   "cell_type": "code",
   "execution_count": 337,
   "metadata": {},
   "outputs": [
    {
     "data": {
      "text/plain": [
       "'furniture'"
      ]
     },
     "execution_count": 337,
     "metadata": {},
     "output_type": "execute_result"
    }
   ],
   "source": [
    "List.pop()"
   ]
  },
  {
   "cell_type": "code",
   "execution_count": 338,
   "metadata": {},
   "outputs": [
    {
     "data": {
      "text/plain": [
       "'mountains'"
      ]
     },
     "execution_count": 338,
     "metadata": {},
     "output_type": "execute_result"
    }
   ],
   "source": [
    "List.pop(1)"
   ]
  },
  {
   "cell_type": "code",
   "execution_count": 339,
   "metadata": {},
   "outputs": [
    {
     "name": "stdout",
     "output_type": "stream",
     "text": [
      "['studies', 'rivers', 'bags', 'cities', 'languages', 'snowfall']\n"
     ]
    }
   ],
   "source": [
    "print(List)"
   ]
  },
  {
   "cell_type": "code",
   "execution_count": 340,
   "metadata": {},
   "outputs": [],
   "source": [
    "List.remove('bags')"
   ]
  },
  {
   "cell_type": "code",
   "execution_count": 341,
   "metadata": {},
   "outputs": [
    {
     "name": "stdout",
     "output_type": "stream",
     "text": [
      "['studies', 'rivers', 'cities', 'languages', 'snowfall']\n"
     ]
    }
   ],
   "source": [
    "print(List)"
   ]
  },
  {
   "cell_type": "code",
   "execution_count": 342,
   "metadata": {},
   "outputs": [
    {
     "ename": "ValueError",
     "evalue": "'tiles' is not in list",
     "output_type": "error",
     "traceback": [
      "\u001b[1;31m---------------------------------------------------------------------------\u001b[0m",
      "\u001b[1;31mValueError\u001b[0m                                Traceback (most recent call last)",
      "Cell \u001b[1;32mIn[342], line 1\u001b[0m\n\u001b[1;32m----> 1\u001b[0m \u001b[38;5;28mprint\u001b[39m(\u001b[43mList\u001b[49m\u001b[38;5;241;43m.\u001b[39;49m\u001b[43mindex\u001b[49m\u001b[43m(\u001b[49m\u001b[38;5;124;43m'\u001b[39;49m\u001b[38;5;124;43mtiles\u001b[39;49m\u001b[38;5;124;43m'\u001b[39;49m\u001b[43m)\u001b[49m)\n",
      "\u001b[1;31mValueError\u001b[0m: 'tiles' is not in list"
     ]
    }
   ],
   "source": [
    "print(List.index('tiles'))"
   ]
  }
 ],
 "metadata": {
  "kernelspec": {
   "display_name": "Python 3",
   "language": "python",
   "name": "python3"
  },
  "language_info": {
   "codemirror_mode": {
    "name": "ipython",
    "version": 3
   },
   "file_extension": ".py",
   "mimetype": "text/x-python",
   "name": "python",
   "nbconvert_exporter": "python",
   "pygments_lexer": "ipython3",
   "version": "3.12.4"
  }
 },
 "nbformat": 4,
 "nbformat_minor": 2
}
